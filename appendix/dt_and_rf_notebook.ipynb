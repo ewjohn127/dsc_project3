{
 "cells": [
  {
   "cell_type": "markdown",
   "metadata": {},
   "source": [
    "### Data Prep/Feature Eng\n",
    "* use cross val for tuning and selecting hyperparameters\n",
    "* use test set at very end on best model\n",
    "* find optimal complexityq to balance bias variance\n",
    "\n",
    "### TRY ALL MODELS - but have rationale on why you are trying models\n",
    "* document the iterative process\n",
    "\n",
    "### Deliverables\n",
    "* Contract by monday 2pm mountain time - communication frequency and tangible deadlines\n",
    "* model completed by monday EOD\n",
    "* proof of concept that your target and predictors are fit for machine learning classification\n",
    "* decide as a team if target can be used as is or needs to be transformed\n",
    "* FSM\n",
    "\n",
    "### GROUP: Evan, Drew, Mustafa"
   ]
  },
  {
   "cell_type": "code",
   "execution_count": 1,
   "metadata": {},
   "outputs": [],
   "source": [
    "import pandas as pd\n",
    "import numpy as np\n",
    "from sklearn.model_selection import train_test_split, cross_val_score,GridSearchCV\n",
    "from sklearn.preprocessing import OneHotEncoder, OrdinalEncoder, StandardScaler\n",
    "from sklearn.impute import SimpleImputer\n",
    "from sklearn.linear_model import LogisticRegression\n",
    "from sklearn.dummy import DummyClassifier\n",
    "from sklearn.metrics import confusion_matrix,plot_confusion_matrix, roc_auc_score, accuracy_score\n",
    "from sklearn.neighbors import KNeighborsClassifier\n",
    "from sklearn.naive_bayes import MultinomialNB\n",
    "from sklearn.feature_selection import RFE\n",
    "import matplotlib.pyplot as plt\n",
    "from sklearn.pipeline import Pipeline\n",
    "from sklearn.compose import ColumnTransformer\n",
    "from sklearn.tree import DecisionTreeClassifier\n",
    "import warnings\n",
    "warnings.filterwarnings('ignore')\n",
    "from sklearn.ensemble import RandomForestClassifier"
   ]
  },
  {
   "cell_type": "code",
   "execution_count": 2,
   "metadata": {},
   "outputs": [],
   "source": [
    "df_var = pd.read_csv('data/training_set_features.csv')\n",
    "df_tar = pd.read_csv('data/training_set_labels.csv')['seasonal_vaccine']"
   ]
  },
  {
   "cell_type": "code",
   "execution_count": 3,
   "metadata": {},
   "outputs": [],
   "source": [
    "# Drop Based On Relevance\n",
    "df_var = df_var.drop(['respondent_id','h1n1_concern','h1n1_knowledge','opinion_h1n1_vacc_effective','opinion_h1n1_risk',\n",
    "                      'opinion_h1n1_sick_from_vacc','doctor_recc_h1n1','hhs_geo_region'],axis=1)"
   ]
  },
  {
   "cell_type": "code",
   "execution_count": 4,
   "metadata": {},
   "outputs": [],
   "source": [
    "# Drop based on Nan\n",
    "df_var = df_var.drop(['health_insurance','income_poverty','employment_industry','employment_occupation'],axis=1)"
   ]
  },
  {
   "cell_type": "markdown",
   "metadata": {},
   "source": [
    "### Train Test Split"
   ]
  },
  {
   "cell_type": "code",
   "execution_count": 5,
   "metadata": {},
   "outputs": [],
   "source": [
    "X_train,X_test,y_train,y_test = train_test_split(df_var,df_tar,random_state=42)\n",
    "X_train = X_train.copy(deep=True)"
   ]
  },
  {
   "cell_type": "code",
   "execution_count": 6,
   "metadata": {},
   "outputs": [],
   "source": [
    "# Imputing Majority Columns\n",
    "imputer_majority = SimpleImputer(strategy='most_frequent')\n",
    "majority_columns = ['behavioral_antiviral_meds', 'behavioral_avoidance',\n",
    "                     'behavioral_face_mask', 'behavioral_wash_hands',\n",
    "                     'behavioral_large_gatherings', 'behavioral_outside_home',\n",
    "                     'behavioral_touch_face', 'doctor_recc_seasonal',\n",
    "                     'chronic_med_condition', 'child_under_6_months', 'health_worker',\n",
    "                     'education', 'rent_or_own', 'marital_status', 'employment_status',\n",
    "                     'sex'\n",
    "                  ]\n",
    "\n",
    "X_train[majority_columns] = imputer_majority.fit_transform(X_train[majority_columns])"
   ]
  },
  {
   "cell_type": "code",
   "execution_count": 7,
   "metadata": {},
   "outputs": [],
   "source": [
    "# Imputing Opinion Columns\n",
    "imputer_opinion = SimpleImputer(strategy='median')\n",
    "opinion_columns = ['opinion_seas_vacc_effective', 'opinion_seas_risk',\n",
    "                   'opinion_seas_sick_from_vacc','household_adults', 'household_children'\n",
    "                   ]\n",
    "\n",
    "X_train[opinion_columns] = imputer_opinion.fit_transform(X_train[opinion_columns])"
   ]
  },
  {
   "cell_type": "code",
   "execution_count": 8,
   "metadata": {},
   "outputs": [],
   "source": [
    "# One Hot Encoding\n",
    "ohe = OneHotEncoder(drop='first',categories='auto')\n",
    "ohe_columns = ['opinion_seas_vacc_effective', 'opinion_seas_risk',\n",
    "                   'opinion_seas_sick_from_vacc','age_group','education','race',\n",
    "                   'employment_status', 'census_msa'\n",
    "                   ]\n",
    "ohe_array = ohe.fit_transform(X_train[ohe_columns])\n",
    "\n",
    "ohe_df = pd.DataFrame(ohe_array.todense(),columns=ohe.get_feature_names(ohe_columns))\n",
    "ohe_df.reset_index(inplace=True,drop=True)\n",
    "X_train.reset_index(inplace=True,drop=True)\n",
    "\n",
    "X_train_ohe = pd.concat([X_train.drop(ohe_columns,axis=1),ohe_df],axis=1,ignore_index=True)\n",
    "X_train_ohe.columns = list(X_train.drop(ohe_columns,axis=1).columns) + list(ohe_df.columns)"
   ]
  },
  {
   "cell_type": "code",
   "execution_count": 9,
   "metadata": {},
   "outputs": [],
   "source": [
    "# Ordinal Encoding\n",
    "# Sex - 0=Female | 1=Male\n",
    "# Marital Status - 0=Married | 1=Not Married\n",
    "# Rent or Own - 0=Own | 1=Rent\n",
    "\n",
    "oe = OrdinalEncoder(categories='auto')\n",
    "X_train_ohe[['sex','marital_status','rent_or_own']] = oe.fit_transform(X_train[['sex','marital_status','rent_or_own']])"
   ]
  },
  {
   "cell_type": "code",
   "execution_count": 10,
   "metadata": {},
   "outputs": [],
   "source": [
    "# Scaling Numerical Columns\n",
    "ss = StandardScaler()\n",
    "scaled_array = ss.fit_transform(X_train_ohe)\n",
    "X_train_ohe_scaled = pd.DataFrame(scaled_array,columns=X_train_ohe.columns)"
   ]
  },
  {
   "cell_type": "markdown",
   "metadata": {},
   "source": [
    "# Modeling"
   ]
  },
  {
   "cell_type": "code",
   "execution_count": 11,
   "metadata": {},
   "outputs": [
    {
     "data": {
      "text/plain": [
       "{'criterion': 'gini',\n",
       " 'max_depth': 8,\n",
       " 'min_samples_split': 35,\n",
       " 'random_state': 0}"
      ]
     },
     "execution_count": 11,
     "metadata": {},
     "output_type": "execute_result"
    }
   ],
   "source": [
    "dt = DecisionTreeClassifier()\n",
    "\n",
    "param_grid_dt = {\n",
    "    'criterion': ['gini', 'entropy'],\n",
    "    'max_depth': [5,6,7,8,9,10],\n",
    "    'min_samples_split': [30,35,40,45],\n",
    "    'random_state': [0,10,20]\n",
    "}\n",
    "\n",
    "gs_dt = GridSearchCV(dt, param_grid_dt, cv=5)\n",
    "gs_dt.fit(X_train_ohe_scaled, y_train)\n",
    "gs_dt.best_params_"
   ]
  },
  {
   "cell_type": "code",
   "execution_count": 12,
   "metadata": {},
   "outputs": [],
   "source": [
    "# Recursive Feature Elimination for Decision Tree\n",
    "dt_cv_rfe = []\n",
    "dt_keep_lists = []\n",
    "max_features = 20\n",
    "for n in range(1,max_features+1):\n",
    "    num_features_to_select = n\n",
    "    dt_rfe = DecisionTreeClassifier(criterion = 'gini',max_depth = 8,min_samples_split = 35,random_state = 0)\n",
    "    select = RFE(dt_rfe, n_features_to_select=num_features_to_select)\n",
    "    select.fit(X=X_train_ohe_scaled, y=y_train)\n",
    "    feature_list = [(k,v) for k,v in zip(X_train_ohe_scaled.columns,select.support_)]\n",
    "    current_keep_list = []\n",
    "    for k,v in feature_list:\n",
    "        if v:\n",
    "            current_keep_list.append(k)\n",
    "    \n",
    "    current_cv = cross_val_score(dt_rfe,X_train_ohe_scaled[current_keep_list],y_train,cv=3,scoring='roc_auc').mean()\n",
    "\n",
    "    dt_cv_rfe.append(current_cv)\n",
    "    dt_keep_lists.append(current_keep_list)"
   ]
  },
  {
   "cell_type": "code",
   "execution_count": 13,
   "metadata": {},
   "outputs": [
    {
     "data": {
      "image/png": "[encoded data removed]",
      "text/plain": [
       "<Figure size 720x720 with 1 Axes>"
      ]
     },
     "metadata": {
      "needs_background": "light"
     },
     "output_type": "display_data"
    }
   ],
   "source": [
    "#Plotting Mean Cross Val AUC ROC for Decision Tree\n",
    "# 13 is optimal value \n",
    "fig,ax = plt.subplots(figsize=(10,10))\n",
    "ax.plot(range(1,max_features+1),dt_cv_rfe)\n",
    "ax.set_xlabel('Number of Features')\n",
    "ax.set_ylabel('Mean Cross Val ROC AUC Score for Decision Tree')\n",
    "plt.show()"
   ]
  },
  {
   "cell_type": "code",
   "execution_count": 15,
   "metadata": {},
   "outputs": [
    {
     "data": {
      "text/plain": [
       "0.8320382192235016"
      ]
     },
     "execution_count": 15,
     "metadata": {},
     "output_type": "execute_result"
    }
   ],
   "source": [
    "# Final Decision Tree and Mean Cross Val AUC ROC Score\n",
    "dt_final = DecisionTreeClassifier(criterion = 'gini',max_depth = 8,min_samples_split = 35,random_state = 0)\n",
    "dt_final.fit(X_train_ohe_scaled[dt_keep_lists[13]],y_train)\n",
    "cross_val_score(dt_final,X_train_ohe_scaled[dt_keep_lists[13]],y_train,cv=5,scoring='roc_auc').mean()"
   ]
  },
  {
   "cell_type": "code",
   "execution_count": 17,
   "metadata": {},
   "outputs": [
    {
     "data": {
      "text/plain": [
       "<sklearn.metrics._plot.confusion_matrix.ConfusionMatrixDisplay at 0x1cc82b03460>"
      ]
     },
     "execution_count": 17,
     "metadata": {},
     "output_type": "execute_result"
    },
    {
     "data": {
      "image/png": "[encoded data removed]",
      "text/plain": [
       "<Figure size 432x288 with 2 Axes>"
      ]
     },
     "metadata": {
      "needs_background": "light"
     },
     "output_type": "display_data"
    }
   ],
   "source": [
    "# Confusion Matrix of Final Decision Tree \n",
    "plot_confusion_matrix(dt_final,X_train_ohe_scaled[dt_keep_lists[13]],y_train)"
   ]
  },
  {
   "cell_type": "markdown",
   "metadata": {},
   "source": [
    "# Random Forest"
   ]
  },
  {
   "cell_type": "code",
   "execution_count": 18,
   "metadata": {},
   "outputs": [
    {
     "data": {
      "text/plain": [
       "{'criterion': 'entropy',\n",
       " 'max_depth': 50,\n",
       " 'min_samples_split': 30,\n",
       " 'n_estimators': 100,\n",
       " 'random_state': 100}"
      ]
     },
     "execution_count": 18,
     "metadata": {},
     "output_type": "execute_result"
    }
   ],
   "source": [
    "# Instantiate and fit a RandomForestClassifier\n",
    "# n_estimators= 1000, criterion = 'gini', max_depth = 100, min_samples_split = 30, random_state = 0\n",
    "# forest = RandomForestClassifier(n_estimators= 100, criterion = 'gini', max_depth = 1000, min_samples_split = 30,\n",
    "#                                 random_state = 0)\n",
    "RF = RandomForestClassifier()\n",
    "param_grid_RF = {\n",
    "      'n_estimators' : [10,100],\n",
    "      'criterion' : ['gini', 'entropy'],\n",
    "      'max_depth' : [50,100,500],\n",
    "      'min_samples_split': [10,20,30],\n",
    "      'random_state': [0,100,200]\n",
    "}\n",
    "\n",
    "gs_RF = GridSearchCV(RF, param_grid_RF, cv=5)\n",
    "gs_RF.fit(X_train_ohe_scaled, y_train)\n",
    "gs_RF.best_params_"
   ]
  },
  {
   "cell_type": "code",
   "execution_count": 28,
   "metadata": {},
   "outputs": [],
   "source": [
    "# Recursive Feature Elimination for Random Forest\n",
    "RF_cv_rfe = []\n",
    "RF_keep_lists = []\n",
    "max_features = 30\n",
    "for n in range(1,max_features+1):\n",
    "    num_features_to_select = n\n",
    "    RF_rfe = RandomForestClassifier(criterion = 'entropy', max_depth = 50, min_samples_split = 30, n_estimators= 100,\n",
    "                                    random_state = 100)\n",
    "    select = RFE(RF_rfe, n_features_to_select=num_features_to_select)\n",
    "    select.fit(X=X_train_ohe_scaled, y=y_train)\n",
    "    feature_list = [(k,v) for k,v in zip(X_train_ohe_scaled.columns,select.support_)]\n",
    "    current_keep_list = []\n",
    "    for k,v in feature_list:\n",
    "        if v:\n",
    "            current_keep_list.append(k)\n",
    "    \n",
    "    current_cv = cross_val_score(RF_rfe,X_train_ohe_scaled[current_keep_list],y_train,cv=3,scoring='roc_auc').mean()\n",
    "\n",
    "    RF_cv_rfe.append(current_cv)\n",
    "    RF_keep_lists.append(current_keep_list)"
   ]
  },
  {
   "cell_type": "code",
   "execution_count": 29,
   "metadata": {},
   "outputs": [
    {
     "data": {
      "image/png": "[encoded data removed]",
      "text/plain": [
       "<Figure size 720x720 with 1 Axes>"
      ]
     },
     "metadata": {
      "needs_background": "light"
     },
     "output_type": "display_data"
    }
   ],
   "source": [
    "#Plotting Mean Cross Val AUC ROC for RFE Models\n",
    "#  is optimal value \n",
    "fig,ax = plt.subplots(figsize=(10,10))\n",
    "ax.plot(range(1,max_features+1),RF_cv_rfe)\n",
    "ax.set_xlabel('Number of Features')\n",
    "ax.set_ylabel('Mean Cross Val ROC AUC Score for Random Forest')\n",
    "plt.show()"
   ]
  },
  {
   "cell_type": "code",
   "execution_count": 33,
   "metadata": {},
   "outputs": [
    {
     "data": {
      "text/plain": [
       "0.840740950433113"
      ]
     },
     "execution_count": 33,
     "metadata": {},
     "output_type": "execute_result"
    }
   ],
   "source": [
    "RF_cv_rfe[22]"
   ]
  },
  {
   "cell_type": "code",
   "execution_count": 35,
   "metadata": {},
   "outputs": [
    {
     "data": {
      "text/plain": [
       "0.8407413330669602"
      ]
     },
     "execution_count": 35,
     "metadata": {},
     "output_type": "execute_result"
    }
   ],
   "source": [
    "# Final Random Forest and Mean Cross Val AUC ROC Score\n",
    "RF_final = RandomForestClassifier(criterion = 'entropy', max_depth = 50, min_samples_split = 30, n_estimators= 100,\n",
    "                                    random_state = 100)\n",
    "RF_final.fit(X_train_ohe_scaled[RF_keep_lists[22]],y_train)\n",
    "cross_val_score(RF_final,X_train_ohe_scaled[RF_keep_lists[22]],y_train,cv=5,scoring='roc_auc').mean()"
   ]
  },
  {
   "cell_type": "code",
   "execution_count": 36,
   "metadata": {},
   "outputs": [
    {
     "data": {
      "text/plain": [
       "<sklearn.metrics._plot.confusion_matrix.ConfusionMatrixDisplay at 0x1cc8279bd30>"
      ]
     },
     "execution_count": 36,
     "metadata": {},
     "output_type": "execute_result"
    },
    {
     "data": {
      "image/png": "[encoded data removed]",
      "text/plain": [
       "<Figure size 432x288 with 2 Axes>"
      ]
     },
     "metadata": {
      "needs_background": "light"
     },
     "output_type": "display_data"
    }
   ],
   "source": [
    "# Confusion Matrix of Final Random Forest\n",
    "plot_confusion_matrix(RF_final,X_train_ohe_scaled[RF_keep_lists[22]],y_train)"
   ]
  },
  {
   "cell_type": "code",
   "execution_count": null,
   "metadata": {},
   "outputs": [],
   "source": []
  }
 ],
 "metadata": {
  "interpreter": {
   "hash": "7a3d059f376a9d0551670ac739dcc834dd342b8d7d90019c6bdbef463e084516"
  },
  "kernelspec": {
   "display_name": "Python 3",
   "language": "python",
   "name": "python3"
  },
  "language_info": {
   "codemirror_mode": {
    "name": "ipython",
    "version": 3
   },
   "file_extension": ".py",
   "mimetype": "text/x-python",
   "name": "python",
   "nbconvert_exporter": "python",
   "pygments_lexer": "ipython3",
   "version": "3.8.5"
  }
 },
 "nbformat": 4,
 "nbformat_minor": 2
}
