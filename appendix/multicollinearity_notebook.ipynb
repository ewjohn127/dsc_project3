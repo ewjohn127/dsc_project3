{
 "cells": [
  {
   "cell_type": "markdown",
   "metadata": {},
   "source": [
    "# Exploring Multicollinearity of Input Variables"
   ]
  },
  {
   "cell_type": "markdown",
   "metadata": {},
   "source": [
    "The below notebook shows that the most significant input variables for predicting target variable are all highly correlated with each other."
   ]
  },
  {
   "cell_type": "code",
   "execution_count": 1,
   "metadata": {},
   "outputs": [],
   "source": [
    "import pandas as pd\n",
    "import numpy as np\n",
    "import seaborn as sns\n",
    "import scipy.stats as stats\n",
    "from sklearn.model_selection import train_test_split, cross_val_score,GridSearchCV\n",
    "from sklearn.preprocessing import OneHotEncoder, OrdinalEncoder, StandardScaler\n",
    "from sklearn.impute import SimpleImputer\n",
    "from sklearn.linear_model import LogisticRegression\n",
    "from sklearn.dummy import DummyClassifier\n",
    "from sklearn.metrics import confusion_matrix,plot_confusion_matrix, roc_auc_score, plot_roc_curve\n",
    "from sklearn.neighbors import KNeighborsClassifier\n",
    "from sklearn.naive_bayes import MultinomialNB\n",
    "from sklearn.feature_selection import RFE\n",
    "import matplotlib.pyplot as plt\n",
    "from sklearn.pipeline import Pipeline\n",
    "from sklearn.compose import ColumnTransformer"
   ]
  },
  {
   "cell_type": "markdown",
   "metadata": {},
   "source": [
    "## Data Cleaning & Exploration"
   ]
  },
  {
   "cell_type": "code",
   "execution_count": 2,
   "metadata": {},
   "outputs": [],
   "source": [
    "df_var = pd.read_csv('data/training_set_features.csv')\n",
    "df_tar = pd.read_csv('data/training_set_labels.csv')['seasonal_vaccine']\n",
    "df_var = df_var.drop(['respondent_id','h1n1_concern','h1n1_knowledge','opinion_h1n1_vacc_effective','opinion_h1n1_risk','opinion_h1n1_sick_from_vacc','doctor_recc_h1n1','hhs_geo_region'],axis=1)\n",
    "df_var = df_var.drop(['health_insurance','income_poverty','employment_industry','employment_occupation'],axis=1)\n",
    "\n",
    "X_train,X_test,y_train,y_test = train_test_split(df_var,df_tar,random_state=42)\n",
    "X_train = X_train.copy(deep=True)"
   ]
  },
  {
   "cell_type": "markdown",
   "metadata": {},
   "source": [
    "### Preprocessing Pipeline"
   ]
  },
  {
   "cell_type": "code",
   "execution_count": 3,
   "metadata": {
    "scrolled": true
   },
   "outputs": [],
   "source": [
    "majority_columns = ['behavioral_antiviral_meds', 'behavioral_avoidance',\n",
    "                     'behavioral_face_mask', 'behavioral_wash_hands',\n",
    "                     'behavioral_large_gatherings', 'behavioral_outside_home',\n",
    "                     'behavioral_touch_face', 'doctor_recc_seasonal',\n",
    "                     'chronic_med_condition', 'child_under_6_months', 'health_worker',\n",
    "                     'education', 'rent_or_own', 'marital_status', 'employment_status',\n",
    "                     'sex'\n",
    "                  ]\n",
    "opinion_columns = ['opinion_seas_vacc_effective', 'opinion_seas_risk',\n",
    "                   'opinion_seas_sick_from_vacc','household_adults', 'household_children'\n",
    "                   ]\n",
    "ohe_columns = ['opinion_seas_vacc_effective', 'opinion_seas_risk',\n",
    "                   'opinion_seas_sick_from_vacc','age_group','education','race',\n",
    "                   'employment_status', 'census_msa'\n",
    "                   ]\n",
    "non_imputed_columns = ['age_group','race','census_msa']\n",
    "oe_columns = ['sex','marital_status','rent_or_own']\n",
    "\n",
    "\n",
    "col_imputer = ColumnTransformer(transformers=[\n",
    "    (\"sim\", SimpleImputer(strategy='most_frequent'), majority_columns),\n",
    "\n",
    "    (\"sib\", SimpleImputer(strategy='median'), opinion_columns)\n",
    "\n",
    "    ],\n",
    "    remainder=\"passthrough\")\n",
    "\n",
    "col_ohe = ColumnTransformer(transformers=[\n",
    "    ('oe' , OrdinalEncoder(categories='auto'), oe_columns),\n",
    "    (\"ohe\", OneHotEncoder(categories=\"auto\", drop='first'), ohe_columns)\n",
    "    ], \n",
    "    remainder='passthrough')\n",
    "\n",
    "# Create a pipeline containing the single column transformer\n",
    "pipe1 = Pipeline(steps=[\n",
    "    ('col_imputer', col_imputer)\n",
    "])\n",
    "\n",
    "imputed = pipe1.fit_transform(X_train)\n",
    "X_train_pipe_impute = pd.DataFrame(imputed, columns=majority_columns+opinion_columns+non_imputed_columns)\n",
    "\n",
    "pipe2 = Pipeline(steps=[\n",
    "    ('col_ohe', col_ohe)\n",
    "])\n",
    "\n",
    "# Use the pipeline to fit and transform the data\n",
    "transformed_data = pipe2.fit_transform(X_train_pipe_impute)\n",
    "\n",
    "encoder = col_ohe.named_transformers_['ohe']\n",
    "category_labels = encoder.get_feature_names(ohe_columns)\n",
    "\n",
    "# Make a dataframe with the relevant columns\n",
    "X_train_pipe_processed = pd.DataFrame(transformed_data, columns=oe_columns+list(category_labels)+list(X_train_pipe_impute.drop(ohe_columns+oe_columns, axis=1).columns))\n",
    "\n",
    "# Sex - 0=Female | 1=Male\n",
    "# Marital Status - 0=Married | 1=Not Married\n",
    "# Rent or Own - 0=Own | 1=Rent"
   ]
  },
  {
   "cell_type": "markdown",
   "metadata": {},
   "source": [
    "## Feature Selection"
   ]
  },
  {
   "cell_type": "markdown",
   "metadata": {},
   "source": [
    "### Recursive Feature Elimination for Logisitic Regression Model"
   ]
  },
  {
   "cell_type": "code",
   "execution_count": 5,
   "metadata": {},
   "outputs": [],
   "source": [
    "# Recursive Feature Elimination\n",
    "\n",
    "lr_cv_rfe = []\n",
    "lr_keep_lists = []\n",
    "max_features = 5\n",
    "for n in range(1,max_features+1):\n",
    "    num_features_to_select = n\n",
    "    lr_rfe = LogisticRegression(penalty='l1',random_state=42,solver='saga',C = 0.08164183673469387)\n",
    "    select = RFE(lr_rfe, n_features_to_select=num_features_to_select)\n",
    "    select.fit(X=X_train_pipe_processed, y=y_train)\n",
    "    feature_list = [(k,v) for k,v in zip(X_train_pipe_processed.columns,select.support_)]\n",
    "    current_keep_list = []\n",
    "    for k,v in feature_list:\n",
    "        if v:\n",
    "            current_keep_list.append(k)\n",
    "    \n",
    "    current_cv = cross_val_score(lr_rfe,X_train_pipe_processed[current_keep_list],y_train,cv=3,scoring='roc_auc').mean()\n",
    "\n",
    "    lr_cv_rfe.append(current_cv)\n",
    "    lr_keep_lists.append(current_keep_list)"
   ]
  },
  {
   "cell_type": "code",
   "execution_count": 20,
   "metadata": {},
   "outputs": [
    {
     "data": {
      "text/plain": [
       "0.6663615671233896"
      ]
     },
     "execution_count": 20,
     "metadata": {},
     "output_type": "execute_result"
    }
   ],
   "source": [
    "# Final Logreg Model Mean Cross Val AUC ROC Score\n",
    "\n",
    "logreg_final = LogisticRegression(penalty='l1',random_state=42,solver='saga',C = 0.08164183673469387)\n",
    "logreg_final.fit(X_train_pipe_processed[lr_keep_lists[0]],y_train)\n",
    "cross_val_score(lr_rfe,X_train_pipe_processed[lr_keep_lists[0]],y_train,cv=5,scoring='roc_auc').mean()"
   ]
  },
  {
   "cell_type": "code",
   "execution_count": 10,
   "metadata": {},
   "outputs": [],
   "source": [
    "p_value_list = []\n",
    "column_tracker_list = []\n",
    "for column1 in X_train_pipe_processed.columns:\n",
    "    for column2 in X_train_pipe_processed.columns:\n",
    "        if column1 != column2:\n",
    "            ct = pd.crosstab(X_train_pipe_processed[column1], \n",
    "                             X_train_pipe_processed[column2], margins=True)\n",
    "\n",
    "            obs = np.array([ct.iloc[i][0:-1].values for i in range(X_train_pipe_processed[column1].value_counts().shape[0])])\n",
    "            if set([column1,column2]) not in column_tracker_list:\n",
    "                if stats.chi2_contingency(obs)[1] < 0.05:\n",
    "                    column_tracker_list.append(set([column1,column2]))\n",
    "                    p_value_list.append((column1,column2,stats.chi2_contingency(obs)[1]))"
   ]
  },
  {
   "cell_type": "code",
   "execution_count": 11,
   "metadata": {
    "scrolled": false
   },
   "outputs": [],
   "source": [
    "final_p = []\n",
    "sorted_p = sorted(list(p_value_list),key=lambda x: x[2],reverse=True)\n",
    "for i,val in enumerate(sorted_p):\n",
    "    if i % 2:\n",
    "        final_p.append(val)"
   ]
  },
  {
   "cell_type": "code",
   "execution_count": 13,
   "metadata": {},
   "outputs": [
    {
     "data": {
      "text/plain": [
       "True"
      ]
     },
     "execution_count": 13,
     "metadata": {},
     "output_type": "execute_result"
    }
   ],
   "source": [
    "set(lr_keep_lists[1]) in column_tracker_list \n",
    "# set(['opinion_seas_vacc_effective_5.0','opinion_seas_risk_4.0']) in column_tracker_list"
   ]
  }
 ],
 "metadata": {
  "interpreter": {
   "hash": "7a3d059f376a9d0551670ac739dcc834dd342b8d7d90019c6bdbef463e084516"
  },
  "kernelspec": {
   "display_name": "Python 3.8.5 64-bit ('learn-env': conda)",
   "name": "python3"
  },
  "language_info": {
   "codemirror_mode": {
    "name": "ipython",
    "version": 3
   },
   "file_extension": ".py",
   "mimetype": "text/x-python",
   "name": "python",
   "nbconvert_exporter": "python",
   "pygments_lexer": "ipython3",
   "version": "3.8.5"
  }
 },
 "nbformat": 4,
 "nbformat_minor": 2
}
