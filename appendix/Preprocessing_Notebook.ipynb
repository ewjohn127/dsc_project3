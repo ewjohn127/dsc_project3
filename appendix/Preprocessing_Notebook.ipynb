{
 "cells": [
  {
   "cell_type": "markdown",
   "metadata": {},
   "source": [
    "### Data Prep/Feature Eng\n",
    "* use cross val for tuning and selecting hyperparameters\n",
    "* use test set at very end on best model\n",
    "* find optimal complexityq to balance bias variance\n",
    "\n",
    "### TRY ALL MODELS - but have rationale on why you are trying models\n",
    "* document the iterative process\n",
    "\n",
    "### Deliverables\n",
    "* Contract by monday 2pm mountain time - communication frequency and tangible deadlines\n",
    "* model completed by monday EOD\n",
    "* proof of concept that your target and predictors are fit for machine learning classification\n",
    "* decide as a team if target can be used as is or needs to be transformed\n",
    "* FSM\n",
    "\n",
    "### GROUP: Evan, Drew, Mustafa"
   ]
  },
  {
   "cell_type": "code",
   "execution_count": 153,
   "metadata": {},
   "outputs": [],
   "source": [
    "import pandas as pd\n",
    "from sklearn.model_selection import train_test_split\n",
    "from sklearn.preprocessing import OneHotEncoder, OrdinalEncoder, StandardScaler\n",
    "from sklearn.impute import SimpleImputer"
   ]
  },
  {
   "cell_type": "code",
   "execution_count": 95,
   "metadata": {},
   "outputs": [],
   "source": [
    "def education_to_num(x):\n",
    "    ed_dict = {'College Graduate':3,'Some College':2,'12 Years':1,'< 12 Years':0}\n",
    "    if type(x) == str:\n",
    "        return ed_dict[x]\n",
    "    return x"
   ]
  },
  {
   "cell_type": "code",
   "execution_count": 96,
   "metadata": {},
   "outputs": [],
   "source": [
    "df_var = pd.read_csv('../data/training_set_features.csv')\n",
    "df_tar = pd.read_csv('../data/training_set_labels.csv')"
   ]
  },
  {
   "cell_type": "code",
   "execution_count": 97,
   "metadata": {},
   "outputs": [],
   "source": [
    "# Drop Based On Relevance\n",
    "df_var = df_var.drop(['respondent_id','h1n1_concern','h1n1_knowledge','opinion_h1n1_vacc_effective','opinion_h1n1_risk','opinion_h1n1_sick_from_vacc','doctor_recc_h1n1','hhs_geo_region'],axis=1)"
   ]
  },
  {
   "cell_type": "code",
   "execution_count": 98,
   "metadata": {},
   "outputs": [
    {
     "data": {
      "text/plain": [
       "health_insurance         46\n",
       "income_poverty           17\n",
       "employment_industry      50\n",
       "employment_occupation    50\n",
       "dtype: int64"
      ]
     },
     "execution_count": 98,
     "metadata": {},
     "output_type": "execute_result"
    }
   ],
   "source": [
    "percent_nan = df_var.isna().sum() / df_var.shape[0] * 100\n",
    "percent_nan.map(round)[percent_nan > 10]"
   ]
  },
  {
   "cell_type": "code",
   "execution_count": 99,
   "metadata": {},
   "outputs": [],
   "source": [
    "# Drop based on Nan\n",
    "df_var = df_var.drop(['health_insurance','income_poverty','employment_industry','employment_occupation'],axis=1)"
   ]
  },
  {
   "cell_type": "code",
   "execution_count": 100,
   "metadata": {},
   "outputs": [],
   "source": [
    "df_comb = pd.concat([df_var,df_tar['seasonal_vaccine']],axis=1,ignore_index=True)\n",
    "df_comb.columns = list(df_var.columns)+['target']"
   ]
  },
  {
   "cell_type": "markdown",
   "metadata": {},
   "source": [
    "### Train Test Split"
   ]
  },
  {
   "cell_type": "code",
   "execution_count": 101,
   "metadata": {},
   "outputs": [],
   "source": [
    "X_train,X_test,y_train,y_test = train_test_split(df_var,df_tar,random_state=42)\n",
    "X_train = X_train.copy(deep=True)"
   ]
  },
  {
   "cell_type": "code",
   "execution_count": 107,
   "metadata": {},
   "outputs": [
    {
     "data": {
      "text/plain": [
       "Index(['behavioral_antiviral_meds', 'behavioral_avoidance',\n",
       "       'behavioral_face_mask', 'behavioral_wash_hands',\n",
       "       'behavioral_large_gatherings', 'behavioral_outside_home',\n",
       "       'behavioral_touch_face', 'doctor_recc_seasonal',\n",
       "       'chronic_med_condition', 'child_under_6_months', 'health_worker',\n",
       "       'opinion_seas_vacc_effective', 'opinion_seas_risk',\n",
       "       'opinion_seas_sick_from_vacc', 'age_group', 'education', 'race', 'sex',\n",
       "       'marital_status', 'rent_or_own', 'employment_status', 'census_msa',\n",
       "       'household_adults', 'household_children'],\n",
       "      dtype='object')"
      ]
     },
     "execution_count": 107,
     "metadata": {},
     "output_type": "execute_result"
    }
   ],
   "source": [
    "X_train.columns"
   ]
  },
  {
   "cell_type": "code",
   "execution_count": 113,
   "metadata": {},
   "outputs": [],
   "source": [
    "# Imputing Majority Columns\n",
    "imputer_majority = SimpleImputer(strategy='most_frequent')\n",
    "majority_columns = ['behavioral_antiviral_meds', 'behavioral_avoidance',\n",
    "                     'behavioral_face_mask', 'behavioral_wash_hands',\n",
    "                     'behavioral_large_gatherings', 'behavioral_outside_home',\n",
    "                     'behavioral_touch_face', 'doctor_recc_seasonal',\n",
    "                     'chronic_med_condition', 'child_under_6_months', 'health_worker',\n",
    "                     'education', 'rent_or_own', 'marital_status', 'employment_status',\n",
    "                     'sex'\n",
    "                  ]\n",
    "\n",
    "X_train[majority_columns] = imputer_majority.fit_transform(X_train[majority_columns])"
   ]
  },
  {
   "cell_type": "code",
   "execution_count": 110,
   "metadata": {},
   "outputs": [],
   "source": [
    "# Imputing Opinion Columns\n",
    "imputer_opinion = SimpleImputer(strategy='median')\n",
    "opinion_columns = ['opinion_seas_vacc_effective', 'opinion_seas_risk',\n",
    "                   'opinion_seas_sick_from_vacc','household_adults', 'household_children'\n",
    "                   ]\n",
    "\n",
    "X_train[opinion_columns] = imputer_binary.fit_transform(X_train[opinion_columns])"
   ]
  },
  {
   "cell_type": "code",
   "execution_count": 138,
   "metadata": {},
   "outputs": [],
   "source": [
    "# One Hot Encoding\n",
    "ohe = OneHotEncoder(drop='first',categories='auto')\n",
    "ohe_columns = ['opinion_seas_vacc_effective', 'opinion_seas_risk',\n",
    "                   'opinion_seas_sick_from_vacc','age_group','education','race',\n",
    "                   'employment_status', 'census_msa'\n",
    "                   ]\n",
    "ohe_array = ohe.fit_transform(X_train[ohe_columns])\n",
    "\n",
    "ohe_df = pd.DataFrame(ohe_array.todense(),columns=ohe.get_feature_names(ohe_columns))\n",
    "ohe_df.reset_index(inplace=True,drop=True)\n",
    "X_train.reset_index(inplace=True,drop=True)\n",
    "\n",
    "X_train_ohe = pd.concat([X_train.drop(ohe_columns,axis=1),ohe_df],axis=1,ignore_index=True)\n",
    "X_train_ohe.columns = list(X_train.drop(ohe_columns,axis=1).columns) + list(ohe_df.columns)"
   ]
  },
  {
   "cell_type": "code",
   "execution_count": 147,
   "metadata": {},
   "outputs": [],
   "source": [
    "# Ordinal Encoding\n",
    "# Sex - 0=Female | 1=Male\n",
    "# Marital Status - 0=Married | 1=Not Married\n",
    "# Rent or Own - 0=Own | 1=Rent\n",
    "\n",
    "oe = OrdinalEncoder(categories='auto')\n",
    "X_train_ohe[['sex','marital_status','rent_or_own']] = oe.fit_transform(X_train[['sex','marital_status','rent_or_own']])"
   ]
  },
  {
   "cell_type": "code",
   "execution_count": 156,
   "metadata": {},
   "outputs": [],
   "source": [
    "# Scaling Numerical Columns\n",
    "ss = StandardScaler()\n",
    "scaled_array = ss.fit_transform(X_train_ohe)\n",
    "X_train_ohe_scaled = pd.DataFrame(scaled_array,columns=X_train_ohe.columns)"
   ]
  },
  {
   "cell_type": "code",
   "execution_count": 159,
   "metadata": {},
   "outputs": [
    {
     "name": "stdout",
     "output_type": "stream",
     "text": [
      "<class 'pandas.core.frame.DataFrame'>\n",
      "RangeIndex: 20030 entries, 0 to 20029\n",
      "Data columns (total 42 columns):\n",
      " #   Column                                Non-Null Count  Dtype  \n",
      "---  ------                                --------------  -----  \n",
      " 0   behavioral_antiviral_meds             20030 non-null  float64\n",
      " 1   behavioral_avoidance                  20030 non-null  float64\n",
      " 2   behavioral_face_mask                  20030 non-null  float64\n",
      " 3   behavioral_wash_hands                 20030 non-null  float64\n",
      " 4   behavioral_large_gatherings           20030 non-null  float64\n",
      " 5   behavioral_outside_home               20030 non-null  float64\n",
      " 6   behavioral_touch_face                 20030 non-null  float64\n",
      " 7   doctor_recc_seasonal                  20030 non-null  float64\n",
      " 8   chronic_med_condition                 20030 non-null  float64\n",
      " 9   child_under_6_months                  20030 non-null  float64\n",
      " 10  health_worker                         20030 non-null  float64\n",
      " 11  sex                                   20030 non-null  float64\n",
      " 12  marital_status                        20030 non-null  float64\n",
      " 13  rent_or_own                           20030 non-null  float64\n",
      " 14  household_adults                      20030 non-null  float64\n",
      " 15  household_children                    20030 non-null  float64\n",
      " 16  opinion_seas_vacc_effective_2.0       20030 non-null  float64\n",
      " 17  opinion_seas_vacc_effective_3.0       20030 non-null  float64\n",
      " 18  opinion_seas_vacc_effective_4.0       20030 non-null  float64\n",
      " 19  opinion_seas_vacc_effective_5.0       20030 non-null  float64\n",
      " 20  opinion_seas_risk_2.0                 20030 non-null  float64\n",
      " 21  opinion_seas_risk_3.0                 20030 non-null  float64\n",
      " 22  opinion_seas_risk_4.0                 20030 non-null  float64\n",
      " 23  opinion_seas_risk_5.0                 20030 non-null  float64\n",
      " 24  opinion_seas_sick_from_vacc_2.0       20030 non-null  float64\n",
      " 25  opinion_seas_sick_from_vacc_3.0       20030 non-null  float64\n",
      " 26  opinion_seas_sick_from_vacc_4.0       20030 non-null  float64\n",
      " 27  opinion_seas_sick_from_vacc_5.0       20030 non-null  float64\n",
      " 28  age_group_35 - 44 Years               20030 non-null  float64\n",
      " 29  age_group_45 - 54 Years               20030 non-null  float64\n",
      " 30  age_group_55 - 64 Years               20030 non-null  float64\n",
      " 31  age_group_65+ Years                   20030 non-null  float64\n",
      " 32  education_< 12 Years                  20030 non-null  float64\n",
      " 33  education_College Graduate            20030 non-null  float64\n",
      " 34  education_Some College                20030 non-null  float64\n",
      " 35  race_Hispanic                         20030 non-null  float64\n",
      " 36  race_Other or Multiple                20030 non-null  float64\n",
      " 37  race_White                            20030 non-null  float64\n",
      " 38  employment_status_Not in Labor Force  20030 non-null  float64\n",
      " 39  employment_status_Unemployed          20030 non-null  float64\n",
      " 40  census_msa_MSA, Principle City        20030 non-null  float64\n",
      " 41  census_msa_Non-MSA                    20030 non-null  float64\n",
      "dtypes: float64(42)\n",
      "memory usage: 6.4 MB\n"
     ]
    }
   ],
   "source": [
    "X_train_ohe_scaled.info()"
   ]
  }
 ],
 "metadata": {
  "interpreter": {
   "hash": "7a3d059f376a9d0551670ac739dcc834dd342b8d7d90019c6bdbef463e084516"
  },
  "kernelspec": {
   "display_name": "Python 3.8.5 64-bit ('learn-env': conda)",
   "name": "python3"
  },
  "language_info": {
   "codemirror_mode": {
    "name": "ipython",
    "version": 3
   },
   "file_extension": ".py",
   "mimetype": "text/x-python",
   "name": "python",
   "nbconvert_exporter": "python",
   "pygments_lexer": "ipython3",
   "version": "3.8.5"
  },
  "orig_nbformat": 4
 },
 "nbformat": 4,
 "nbformat_minor": 2
}
