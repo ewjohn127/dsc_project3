{
 "cells": [
  {
   "cell_type": "markdown",
   "metadata": {},
   "source": [
    "### Data Prep/Feature Eng\n",
    "* use cross val for tuning and selecting hyperparameters\n",
    "* use test set at very end on best model\n",
    "* find optimal complexityq to balance bias variance\n",
    "\n",
    "### TRY ALL MODELS - but have rationale on why you are trying models\n",
    "* document the iterative process\n",
    "\n",
    "### Deliverables\n",
    "* Contract by monday 2pm mountain time - communication frequency and tangible deadlines\n",
    "* model completed by monday EOD\n",
    "* proof of concept that your target and predictors are fit for machine learning classification\n",
    "* decide as a team if target can be used as is or needs to be transformed\n",
    "* FSM\n",
    "\n",
    "### GROUP: Evan, Drew, Mustafa"
   ]
  },
  {
   "cell_type": "code",
   "execution_count": 5,
   "metadata": {},
   "outputs": [],
   "source": [
    "import pandas as pd\n",
    "import numpy as np\n",
    "from sklearn.model_selection import train_test_split, cross_val_score,GridSearchCV\n",
    "from sklearn.preprocessing import OneHotEncoder, OrdinalEncoder, StandardScaler\n",
    "from sklearn.impute import SimpleImputer\n",
    "from sklearn.linear_model import LogisticRegression\n",
    "from sklearn.dummy import DummyClassifier\n",
    "from sklearn.metrics import confusion_matrix,plot_confusion_matrix, roc_auc_score\n",
    "from sklearn.neighbors import KNeighborsClassifier\n",
    "from sklearn.naive_bayes import MultinomialNB\n",
    "from sklearn.feature_selection import RFE\n",
    "import matplotlib.pyplot as plt"
   ]
  },
  {
   "cell_type": "code",
   "execution_count": 6,
   "metadata": {},
   "outputs": [],
   "source": [
    "df_var = pd.read_csv('../data/training_set_features.csv')\n",
    "df_tar = pd.read_csv('../data/training_set_labels.csv')['seasonal_vaccine']"
   ]
  },
  {
   "cell_type": "code",
   "execution_count": 7,
   "metadata": {},
   "outputs": [],
   "source": [
    "# Drop Based On Relevance\n",
    "df_var = df_var.drop(['respondent_id','h1n1_concern','h1n1_knowledge','opinion_h1n1_vacc_effective','opinion_h1n1_risk','opinion_h1n1_sick_from_vacc','doctor_recc_h1n1','hhs_geo_region'],axis=1)"
   ]
  },
  {
   "cell_type": "code",
   "execution_count": 8,
   "metadata": {},
   "outputs": [
    {
     "data": {
      "text/plain": [
       "health_insurance         46\n",
       "income_poverty           17\n",
       "employment_industry      50\n",
       "employment_occupation    50\n",
       "dtype: int64"
      ]
     },
     "execution_count": 8,
     "metadata": {},
     "output_type": "execute_result"
    }
   ],
   "source": [
    "percent_nan = df_var.isna().sum() / df_var.shape[0] * 100\n",
    "percent_nan.map(round)[percent_nan > 10]"
   ]
  },
  {
   "cell_type": "code",
   "execution_count": 9,
   "metadata": {},
   "outputs": [],
   "source": [
    "# Drop based on Nan\n",
    "df_var = df_var.drop(['health_insurance','income_poverty','employment_industry','employment_occupation'],axis=1)"
   ]
  },
  {
   "cell_type": "markdown",
   "metadata": {},
   "source": [
    "### Train Test Split"
   ]
  },
  {
   "cell_type": "code",
   "execution_count": 10,
   "metadata": {},
   "outputs": [],
   "source": [
    "X_train,X_test,y_train,y_test = train_test_split(df_var,df_tar,random_state=42)\n",
    "X_train = X_train.copy(deep=True)"
   ]
  },
  {
   "cell_type": "code",
   "execution_count": 11,
   "metadata": {},
   "outputs": [
    {
     "data": {
      "text/plain": [
       "Index(['behavioral_antiviral_meds', 'behavioral_avoidance',\n",
       "       'behavioral_face_mask', 'behavioral_wash_hands',\n",
       "       'behavioral_large_gatherings', 'behavioral_outside_home',\n",
       "       'behavioral_touch_face', 'doctor_recc_seasonal',\n",
       "       'chronic_med_condition', 'child_under_6_months', 'health_worker',\n",
       "       'opinion_seas_vacc_effective', 'opinion_seas_risk',\n",
       "       'opinion_seas_sick_from_vacc', 'age_group', 'education', 'race', 'sex',\n",
       "       'marital_status', 'rent_or_own', 'employment_status', 'census_msa',\n",
       "       'household_adults', 'household_children'],\n",
       "      dtype='object')"
      ]
     },
     "execution_count": 11,
     "metadata": {},
     "output_type": "execute_result"
    }
   ],
   "source": [
    "X_train.columns"
   ]
  },
  {
   "cell_type": "code",
   "execution_count": 12,
   "metadata": {},
   "outputs": [],
   "source": [
    "# Imputing Majority Columns\n",
    "imputer_majority = SimpleImputer(strategy='most_frequent')\n",
    "majority_columns = ['behavioral_antiviral_meds', 'behavioral_avoidance',\n",
    "                     'behavioral_face_mask', 'behavioral_wash_hands',\n",
    "                     'behavioral_large_gatherings', 'behavioral_outside_home',\n",
    "                     'behavioral_touch_face', 'doctor_recc_seasonal',\n",
    "                     'chronic_med_condition', 'child_under_6_months', 'health_worker',\n",
    "                     'education', 'rent_or_own', 'marital_status', 'employment_status',\n",
    "                     'sex'\n",
    "                  ]\n",
    "\n",
    "X_train[majority_columns] = imputer_majority.fit_transform(X_train[majority_columns])"
   ]
  },
  {
   "cell_type": "code",
   "execution_count": 13,
   "metadata": {},
   "outputs": [],
   "source": [
    "# Imputing Opinion Columns\n",
    "imputer_opinion = SimpleImputer(strategy='median')\n",
    "opinion_columns = ['opinion_seas_vacc_effective', 'opinion_seas_risk',\n",
    "                   'opinion_seas_sick_from_vacc','household_adults', 'household_children'\n",
    "                   ]\n",
    "\n",
    "X_train[opinion_columns] = imputer_opinion.fit_transform(X_train[opinion_columns])"
   ]
  },
  {
   "cell_type": "code",
   "execution_count": 14,
   "metadata": {},
   "outputs": [],
   "source": [
    "# One Hot Encoding\n",
    "ohe = OneHotEncoder(drop='first',categories='auto')\n",
    "ohe_columns = ['opinion_seas_vacc_effective', 'opinion_seas_risk',\n",
    "                   'opinion_seas_sick_from_vacc','age_group','education','race',\n",
    "                   'employment_status', 'census_msa'\n",
    "                   ]\n",
    "ohe_array = ohe.fit_transform(X_train[ohe_columns])\n",
    "\n",
    "ohe_df = pd.DataFrame(ohe_array.todense(),columns=ohe.get_feature_names(ohe_columns))\n",
    "ohe_df.reset_index(inplace=True,drop=True)\n",
    "X_train.reset_index(inplace=True,drop=True)\n",
    "\n",
    "X_train_ohe = pd.concat([X_train.drop(ohe_columns,axis=1),ohe_df],axis=1,ignore_index=True)\n",
    "X_train_ohe.columns = list(X_train.drop(ohe_columns,axis=1).columns) + list(ohe_df.columns)"
   ]
  },
  {
   "cell_type": "code",
   "execution_count": 15,
   "metadata": {},
   "outputs": [],
   "source": [
    "# Ordinal Encoding\n",
    "# Sex - 0=Female | 1=Male\n",
    "# Marital Status - 0=Married | 1=Not Married\n",
    "# Rent or Own - 0=Own | 1=Rent\n",
    "\n",
    "oe = OrdinalEncoder(categories='auto')\n",
    "X_train_ohe[['sex','marital_status','rent_or_own']] = oe.fit_transform(X_train[['sex','marital_status','rent_or_own']])"
   ]
  },
  {
   "cell_type": "code",
   "execution_count": 16,
   "metadata": {},
   "outputs": [],
   "source": [
    "# Scaling Numerical Columns\n",
    "ss = StandardScaler()\n",
    "scaled_array = ss.fit_transform(X_train_ohe)\n",
    "X_train_ohe_scaled = pd.DataFrame(scaled_array,columns=X_train_ohe.columns)"
   ]
  },
  {
   "cell_type": "code",
   "execution_count": 17,
   "metadata": {
    "scrolled": false
   },
   "outputs": [
    {
     "name": "stdout",
     "output_type": "stream",
     "text": [
      "<class 'pandas.core.frame.DataFrame'>\n",
      "RangeIndex: 20030 entries, 0 to 20029\n",
      "Data columns (total 42 columns):\n",
      " #   Column                                Non-Null Count  Dtype  \n",
      "---  ------                                --------------  -----  \n",
      " 0   behavioral_antiviral_meds             20030 non-null  float64\n",
      " 1   behavioral_avoidance                  20030 non-null  float64\n",
      " 2   behavioral_face_mask                  20030 non-null  float64\n",
      " 3   behavioral_wash_hands                 20030 non-null  float64\n",
      " 4   behavioral_large_gatherings           20030 non-null  float64\n",
      " 5   behavioral_outside_home               20030 non-null  float64\n",
      " 6   behavioral_touch_face                 20030 non-null  float64\n",
      " 7   doctor_recc_seasonal                  20030 non-null  float64\n",
      " 8   chronic_med_condition                 20030 non-null  float64\n",
      " 9   child_under_6_months                  20030 non-null  float64\n",
      " 10  health_worker                         20030 non-null  float64\n",
      " 11  sex                                   20030 non-null  float64\n",
      " 12  marital_status                        20030 non-null  float64\n",
      " 13  rent_or_own                           20030 non-null  float64\n",
      " 14  household_adults                      20030 non-null  float64\n",
      " 15  household_children                    20030 non-null  float64\n",
      " 16  opinion_seas_vacc_effective_2.0       20030 non-null  float64\n",
      " 17  opinion_seas_vacc_effective_3.0       20030 non-null  float64\n",
      " 18  opinion_seas_vacc_effective_4.0       20030 non-null  float64\n",
      " 19  opinion_seas_vacc_effective_5.0       20030 non-null  float64\n",
      " 20  opinion_seas_risk_2.0                 20030 non-null  float64\n",
      " 21  opinion_seas_risk_3.0                 20030 non-null  float64\n",
      " 22  opinion_seas_risk_4.0                 20030 non-null  float64\n",
      " 23  opinion_seas_risk_5.0                 20030 non-null  float64\n",
      " 24  opinion_seas_sick_from_vacc_2.0       20030 non-null  float64\n",
      " 25  opinion_seas_sick_from_vacc_3.0       20030 non-null  float64\n",
      " 26  opinion_seas_sick_from_vacc_4.0       20030 non-null  float64\n",
      " 27  opinion_seas_sick_from_vacc_5.0       20030 non-null  float64\n",
      " 28  age_group_35 - 44 Years               20030 non-null  float64\n",
      " 29  age_group_45 - 54 Years               20030 non-null  float64\n",
      " 30  age_group_55 - 64 Years               20030 non-null  float64\n",
      " 31  age_group_65+ Years                   20030 non-null  float64\n",
      " 32  education_< 12 Years                  20030 non-null  float64\n",
      " 33  education_College Graduate            20030 non-null  float64\n",
      " 34  education_Some College                20030 non-null  float64\n",
      " 35  race_Hispanic                         20030 non-null  float64\n",
      " 36  race_Other or Multiple                20030 non-null  float64\n",
      " 37  race_White                            20030 non-null  float64\n",
      " 38  employment_status_Not in Labor Force  20030 non-null  float64\n",
      " 39  employment_status_Unemployed          20030 non-null  float64\n",
      " 40  census_msa_MSA, Principle City        20030 non-null  float64\n",
      " 41  census_msa_Non-MSA                    20030 non-null  float64\n",
      "dtypes: float64(42)\n",
      "memory usage: 6.4 MB\n"
     ]
    }
   ],
   "source": [
    "X_train_ohe_scaled.info()"
   ]
  },
  {
   "cell_type": "markdown",
   "metadata": {},
   "source": [
    "### Logistic Regression Model"
   ]
  },
  {
   "cell_type": "code",
   "execution_count": 18,
   "metadata": {},
   "outputs": [
    {
     "data": {
      "text/plain": [
       "array([0.5312032 , 0.5312032 , 0.5312032 , 0.53095357, 0.53095357])"
      ]
     },
     "execution_count": 18,
     "metadata": {},
     "output_type": "execute_result"
    }
   ],
   "source": [
    "# Dummy Classifier\n",
    "dc = DummyClassifier(strategy='most_frequent',random_state=42)\n",
    "dc.fit(X_train_ohe_scaled,y_train)\n",
    "cv_scores = cross_val_score(dc,X_train_ohe_scaled,y_train,cv=5)\n",
    "cv_scores"
   ]
  },
  {
   "cell_type": "code",
   "execution_count": 19,
   "metadata": {},
   "outputs": [
    {
     "data": {
      "text/plain": [
       "array([0.77808288, 0.76684973, 0.77508737, 0.77259111, 0.78207688])"
      ]
     },
     "execution_count": 19,
     "metadata": {},
     "output_type": "execute_result"
    }
   ],
   "source": [
    "# Logreg with lasso\n",
    "logreg_l1 = LogisticRegression(penalty='l1',random_state=42,solver='liblinear')\n",
    "logreg_l1.fit(X_train_ohe_scaled,y_train)\n",
    "cv_scores_l1 = cross_val_score(logreg_l1,X_train_ohe_scaled,y_train,cv=5)\n",
    "cv_scores_l1"
   ]
  },
  {
   "cell_type": "code",
   "execution_count": 20,
   "metadata": {},
   "outputs": [
    {
     "data": {
      "text/plain": [
       "{'C': 0.08164183673469387, 'penalty': 'l1', 'solver': 'saga'}"
      ]
     },
     "execution_count": 20,
     "metadata": {},
     "output_type": "execute_result"
    }
   ],
   "source": [
    "param_grid = {\n",
    "    'C': np.linspace(1e-5,1,50),\n",
    "    'solver': ['liblinear','saga'],\n",
    "    'penalty': ['l1']\n",
    "}\n",
    "\n",
    "gs_logreg_l1 = GridSearchCV(logreg_l1, param_grid, cv=3)\n",
    "gs_logreg_l1.fit(X_train_ohe_scaled, y_train)\n",
    "\n",
    "gs_logreg_l1.best_params_"
   ]
  },
  {
   "cell_type": "code",
   "execution_count": 21,
   "metadata": {},
   "outputs": [
    {
     "data": {
      "text/plain": [
       "0.7744882675986021"
      ]
     },
     "execution_count": 21,
     "metadata": {},
     "output_type": "execute_result"
    }
   ],
   "source": [
    "# logreg with ridge\n",
    "logreg_l2 = LogisticRegression(penalty='l2',random_state=42,solver='liblinear',C=0.02139)\n",
    "logreg_l2.fit(X_train_ohe_scaled,y_train)\n",
    "cv_scores_l2 = cross_val_score(logreg_l2,X_train_ohe_scaled,y_train,cv=5)\n",
    "cv_scores_l2.mean()"
   ]
  },
  {
   "cell_type": "code",
   "execution_count": 22,
   "metadata": {},
   "outputs": [
    {
     "data": {
      "text/plain": [
       "{'C': 0.021387755102040818, 'penalty': 'l2', 'solver': 'liblinear'}"
      ]
     },
     "execution_count": 22,
     "metadata": {},
     "output_type": "execute_result"
    }
   ],
   "source": [
    "param_grid = {\n",
    "    'C': np.linspace(.001,1,50),\n",
    "    'solver': ['newton-cg','lbfgs','liblinear','sag','saga'],\n",
    "    'penalty': ['l2']\n",
    "}\n",
    "\n",
    "gs_logreg_l2 = GridSearchCV(logreg_l2, param_grid, cv=3)\n",
    "gs_logreg_l2.fit(X_train_ohe_scaled, y_train)\n",
    "\n",
    "gs_logreg_l2.best_params_"
   ]
  },
  {
   "cell_type": "code",
   "execution_count": 23,
   "metadata": {
    "scrolled": true
   },
   "outputs": [
    {
     "data": {
      "text/plain": [
       "0.00044932601098357505"
      ]
     },
     "execution_count": 23,
     "metadata": {},
     "output_type": "execute_result"
    }
   ],
   "source": [
    "cv_scores_l1.mean() - cv_scores_l2.mean()"
   ]
  },
  {
   "cell_type": "code",
   "execution_count": 24,
   "metadata": {},
   "outputs": [
    {
     "data": {
      "text/plain": [
       "array([0, 1, 0, ..., 0, 0, 0])"
      ]
     },
     "execution_count": 24,
     "metadata": {},
     "output_type": "execute_result"
    }
   ],
   "source": [
    "logreg_l1.predict(X_train_ohe_scaled)"
   ]
  },
  {
   "cell_type": "code",
   "execution_count": 25,
   "metadata": {},
   "outputs": [
    {
     "data": {
      "text/plain": [
       "[('opinion_seas_vacc_effective_5.0', 0.7895629852287955),\n",
       " ('opinion_seas_risk_4.0', 0.7814216507355733),\n",
       " ('opinion_seas_risk_5.0', 0.6759196864639988),\n",
       " ('age_group_65+ Years', 0.6258876567660814),\n",
       " ('doctor_recc_seasonal', 0.606447949907097),\n",
       " ('opinion_seas_risk_2.0', 0.39309982979048824),\n",
       " ('opinion_seas_vacc_effective_4.0', 0.32848145984424687),\n",
       " ('age_group_55 - 64 Years', 0.26590198076943483),\n",
       " ('health_worker', 0.26420187735522555),\n",
       " ('opinion_seas_risk_3.0', 0.22917071688665328),\n",
       " ('age_group_45 - 54 Years', 0.15695443014154328),\n",
       " ('race_White', 0.13754281118592937),\n",
       " ('education_College Graduate', 0.13416821241358085),\n",
       " ('behavioral_touch_face', 0.12047832315361204),\n",
       " ('race_Other or Multiple', 0.09238317164274469),\n",
       " ('opinion_seas_vacc_effective_3.0', 0.08523451061062157),\n",
       " ('chronic_med_condition', 0.08148016633161893),\n",
       " ('age_group_35 - 44 Years', 0.07212442773867322),\n",
       " ('behavioral_wash_hands', 0.0477771110291126),\n",
       " ('race_Hispanic', 0.0372772382132341),\n",
       " ('education_Some College', 0.03712177213828766),\n",
       " ('employment_status_Not in Labor Force', 0.02610310571417132),\n",
       " ('behavioral_antiviral_meds', 0.018944877974021408),\n",
       " ('child_under_6_months', 0.013550679851704165),\n",
       " ('sex', 0.006168379813980665),\n",
       " ('behavioral_face_mask', 0.0026684299149014054),\n",
       " ('census_msa_MSA, Principle City', -0.003491971994256732),\n",
       " ('behavioral_avoidance', -0.01160563659992512),\n",
       " ('behavioral_large_gatherings', -0.018143502528865426),\n",
       " ('behavioral_outside_home', -0.0368398112311749),\n",
       " ('household_adults', -0.04404622425709437),\n",
       " ('household_children', -0.04969642349594172),\n",
       " ('employment_status_Unemployed', -0.058844487403101234),\n",
       " ('education_< 12 Years', -0.05986492612625408),\n",
       " ('census_msa_Non-MSA', -0.06505366719688598),\n",
       " ('opinion_seas_vacc_effective_2.0', -0.07144692580031566),\n",
       " ('marital_status', -0.082452489828997),\n",
       " ('rent_or_own', -0.10605866404691663),\n",
       " ('opinion_seas_sick_from_vacc_3.0', -0.10795111141257928),\n",
       " ('opinion_seas_sick_from_vacc_2.0', -0.17285320709704452),\n",
       " ('opinion_seas_sick_from_vacc_4.0', -0.21238685097085092),\n",
       " ('opinion_seas_sick_from_vacc_5.0', -0.2761252125040926)]"
      ]
     },
     "execution_count": 25,
     "metadata": {},
     "output_type": "execute_result"
    }
   ],
   "source": [
    "coef_list = []\n",
    "for x in zip(list(X_train_ohe.columns),logreg_l1.coef_[0]):\n",
    "    coef_list.append(x)\n",
    "\n",
    "coef_list.sort(key=lambda x: x[1],reverse=True)\n",
    "coef_list"
   ]
  },
  {
   "cell_type": "code",
   "execution_count": 26,
   "metadata": {},
   "outputs": [
    {
     "data": {
      "text/plain": [
       "<sklearn.metrics._plot.confusion_matrix.ConfusionMatrixDisplay at 0x7f8cedf1efa0>"
      ]
     },
     "execution_count": 26,
     "metadata": {},
     "output_type": "execute_result"
    },
    {
     "data": {
      "image/png": "[encoded data removed]",
      "text/plain": [
       "<Figure size 432x288 with 2 Axes>"
      ]
     },
     "metadata": {
      "needs_background": "light"
     },
     "output_type": "display_data"
    }
   ],
   "source": [
    "plot_confusion_matrix(logreg_l1,X_train_ohe_scaled,y_train)"
   ]
  },
  {
   "cell_type": "code",
   "execution_count": 27,
   "metadata": {},
   "outputs": [],
   "source": [
    "top_5_list = [x[0] for x in coef_list[:5]]\n",
    "bot_5_list = [x[0] for x in coef_list[-5:]]\n",
    "top_bot_list = top_5_list + bot_5_list"
   ]
  },
  {
   "cell_type": "code",
   "execution_count": 28,
   "metadata": {},
   "outputs": [
    {
     "data": {
      "text/plain": [
       "KNeighborsClassifier(n_neighbors=11)"
      ]
     },
     "execution_count": 28,
     "metadata": {},
     "output_type": "execute_result"
    }
   ],
   "source": [
    "knn = KNeighborsClassifier(n_neighbors=11)\n",
    "knn.fit(X_train_ohe_scaled[top_bot_list],y_train)"
   ]
  },
  {
   "cell_type": "code",
   "execution_count": 29,
   "metadata": {},
   "outputs": [
    {
     "data": {
      "text/plain": [
       "0.7421867199201199"
      ]
     },
     "execution_count": 29,
     "metadata": {},
     "output_type": "execute_result"
    }
   ],
   "source": [
    "cv_scores_knn = cross_val_score(knn,X_train_ohe_scaled[top_bot_list],y_train,cv=5)\n",
    "cv_scores_knn.mean()"
   ]
  },
  {
   "cell_type": "code",
   "execution_count": 30,
   "metadata": {},
   "outputs": [
    {
     "data": {
      "text/plain": [
       "MultinomialNB()"
      ]
     },
     "execution_count": 30,
     "metadata": {},
     "output_type": "execute_result"
    }
   ],
   "source": [
    "baye = MultinomialNB()\n",
    "baye.fit(X_train_ohe,y_train)"
   ]
  },
  {
   "cell_type": "code",
   "execution_count": 31,
   "metadata": {},
   "outputs": [
    {
     "data": {
      "text/plain": [
       "0.7406889665501747"
      ]
     },
     "execution_count": 31,
     "metadata": {},
     "output_type": "execute_result"
    }
   ],
   "source": [
    "baye.score(X_train_ohe,y_train)"
   ]
  },
  {
   "cell_type": "code",
   "execution_count": 32,
   "metadata": {},
   "outputs": [
    {
     "data": {
      "text/plain": [
       "0.7393909136295557"
      ]
     },
     "execution_count": 32,
     "metadata": {},
     "output_type": "execute_result"
    }
   ],
   "source": [
    "cv_scores_knn = cross_val_score(baye,X_train_ohe,y_train,cv=5)\n",
    "cv_scores_knn.mean()"
   ]
  },
  {
   "cell_type": "code",
   "execution_count": 33,
   "metadata": {},
   "outputs": [
    {
     "data": {
      "text/plain": [
       "0.7741235855966828"
      ]
     },
     "execution_count": 33,
     "metadata": {},
     "output_type": "execute_result"
    }
   ],
   "source": [
    "roc_auc_score(y_train,logreg_l1.predict(X_train_ohe_scaled))"
   ]
  },
  {
   "cell_type": "code",
   "execution_count": 34,
   "metadata": {},
   "outputs": [
    {
     "data": {
      "text/plain": [
       "array([0, 1, 0, ..., 0, 0, 0])"
      ]
     },
     "execution_count": 34,
     "metadata": {},
     "output_type": "execute_result"
    }
   ],
   "source": [
    "logreg_l1.predict(X_train_ohe_scaled)"
   ]
  },
  {
   "cell_type": "code",
   "execution_count": 35,
   "metadata": {},
   "outputs": [
    {
     "data": {
      "text/plain": [
       "0.755422015842666"
      ]
     },
     "execution_count": 35,
     "metadata": {},
     "output_type": "execute_result"
    }
   ],
   "source": [
    "precision = 6914 / (6914+1999)\n",
    "recall = 6914 / (6914+2478)\n",
    "2*precision*recall/(precision+recall)"
   ]
  },
  {
   "cell_type": "code",
   "execution_count": 36,
   "metadata": {},
   "outputs": [],
   "source": [
    "# Recursive Feature Selection\n",
    "cv_rfe = []\n",
    "keep_lists = []\n",
    "max_features = 20\n",
    "for n in range(1,max_features+1):\n",
    "    num_features_to_select = n\n",
    "    lr_rfe = LogisticRegression(penalty='l1',random_state=42,solver='liblinear')\n",
    "    select = RFE(lr_rfe, n_features_to_select=num_features_to_select)\n",
    "    select.fit(X=X_train_ohe_scaled, y=y_train)\n",
    "    feature_list = [(k,v) for k,v in zip(X_train_ohe_scaled.columns,select.support_)]\n",
    "    current_keep_list = []\n",
    "    for k,v in feature_list:\n",
    "        if v:\n",
    "            current_keep_list.append(k)\n",
    "    \n",
    "    current_cv = cross_val_score(lr_rfe,X_train_ohe[current_keep_list],y_train,cv=3,scoring='roc_auc').mean()\n",
    "\n",
    "    cv_rfe.append(current_cv)\n",
    "    keep_lists.append(current_keep_list)\n",
    "    "
   ]
  },
  {
   "cell_type": "code",
   "execution_count": 37,
   "metadata": {},
   "outputs": [
    {
     "data": {
      "image/png": "[encoded data removed]",
      "text/plain": [
       "<Figure size 720x720 with 1 Axes>"
      ]
     },
     "metadata": {
      "needs_background": "light"
     },
     "output_type": "display_data"
    }
   ],
   "source": [
    "fig,ax = plt.subplots(figsize=(10,10))\n",
    "\n",
    "ax.plot(range(1,max_features+1),cv_rfe)\n",
    "ax.set_xlabel('Number of Features')\n",
    "ax.set_ylabel('Mean Cross Val ROC AUC Score')\n",
    "plt.show()"
   ]
  },
  {
   "cell_type": "code",
   "execution_count": 38,
   "metadata": {},
   "outputs": [
    {
     "data": {
      "text/plain": [
       "0.8480905723357626"
      ]
     },
     "execution_count": 38,
     "metadata": {},
     "output_type": "execute_result"
    }
   ],
   "source": [
    "logreg_final = LogisticRegression(penalty='l1',random_state=42,solver='saga',C = 0.08164183673469387)\n",
    "logreg_final.fit(X_train_ohe_scaled[keep_lists[-1]],y_train)\n",
    "cross_val_score(lr_rfe,X_train_ohe[keep_lists[-1]],y_train,cv=5,scoring='roc_auc').mean()"
   ]
  },
  {
   "cell_type": "code",
   "execution_count": 39,
   "metadata": {},
   "outputs": [
    {
     "data": {
      "text/plain": [
       "<sklearn.metrics._plot.confusion_matrix.ConfusionMatrixDisplay at 0x7f8cf1bffe80>"
      ]
     },
     "execution_count": 39,
     "metadata": {},
     "output_type": "execute_result"
    },
    {
     "data": {
      "image/png": "[encoded data removed]",
      "text/plain": [
       "<Figure size 432x288 with 2 Axes>"
      ]
     },
     "metadata": {
      "needs_background": "light"
     },
     "output_type": "display_data"
    }
   ],
   "source": [
    "plot_confusion_matrix(logreg_final,X_train_ohe_scaled[keep_lists[-1]],y_train)"
   ]
  },
  {
   "cell_type": "code",
   "execution_count": 40,
   "metadata": {},
   "outputs": [
    {
     "data": {
      "text/plain": [
       "0.7738392411382926"
      ]
     },
     "execution_count": 40,
     "metadata": {},
     "output_type": "execute_result"
    }
   ],
   "source": [
    "logreg_final.score(X_train_ohe_scaled[keep_lists[-1]],y_train)"
   ]
  }
 ],
 "metadata": {
  "interpreter": {
   "hash": "7a3d059f376a9d0551670ac739dcc834dd342b8d7d90019c6bdbef463e084516"
  },
  "kernelspec": {
   "display_name": "Python 3.8.5 64-bit ('learn-env': conda)",
   "name": "python3"
  },
  "language_info": {
   "codemirror_mode": {
    "name": "ipython",
    "version": 3
   },
   "file_extension": ".py",
   "mimetype": "text/x-python",
   "name": "python",
   "nbconvert_exporter": "python",
   "pygments_lexer": "ipython3",
   "version": "3.8.5"
  }
 },
 "nbformat": 4,
 "nbformat_minor": 2
}
